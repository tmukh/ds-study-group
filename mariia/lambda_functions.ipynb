{
 "cells": [
  {
   "cell_type": "code",
   "execution_count": 1,
   "id": "93de1682",
   "metadata": {},
   "outputs": [],
   "source": [
    "lst = [ x for x in range(10) ]"
   ]
  },
  {
   "cell_type": "code",
   "execution_count": 2,
   "id": "e33d6916",
   "metadata": {},
   "outputs": [
    {
     "data": {
      "text/plain": [
       "[0, 1, 2, 3, 4, 5, 6, 7, 8, 9]"
      ]
     },
     "execution_count": 2,
     "metadata": {},
     "output_type": "execute_result"
    }
   ],
   "source": [
    "lst"
   ]
  },
  {
   "cell_type": "markdown",
   "id": "64b68f31",
   "metadata": {},
   "source": [
    "#### map"
   ]
  },
  {
   "cell_type": "code",
   "execution_count": 3,
   "id": "61413fac",
   "metadata": {},
   "outputs": [],
   "source": [
    "squared = list(map(lambda x: x**2 , lst))"
   ]
  },
  {
   "cell_type": "code",
   "execution_count": 4,
   "id": "c5b79f8b",
   "metadata": {},
   "outputs": [
    {
     "data": {
      "text/plain": [
       "[0, 1, 4, 9, 16, 25, 36, 49, 64, 81]"
      ]
     },
     "execution_count": 4,
     "metadata": {},
     "output_type": "execute_result"
    }
   ],
   "source": [
    "squared"
   ]
  },
  {
   "cell_type": "code",
   "execution_count": 5,
   "id": "7122f005",
   "metadata": {},
   "outputs": [],
   "source": [
    "tup = tuple(lst)"
   ]
  },
  {
   "cell_type": "code",
   "execution_count": 6,
   "id": "5ef484ec",
   "metadata": {},
   "outputs": [
    {
     "data": {
      "text/plain": [
       "(0, 1, 2, 3, 4, 5, 6, 7, 8, 9)"
      ]
     },
     "execution_count": 6,
     "metadata": {},
     "output_type": "execute_result"
    }
   ],
   "source": [
    "tup"
   ]
  },
  {
   "cell_type": "code",
   "execution_count": 7,
   "id": "71ef4062",
   "metadata": {},
   "outputs": [],
   "source": [
    "evens_squared = tuple(map(lambda x: x**2 if x%2==0 else x, tup))"
   ]
  },
  {
   "cell_type": "code",
   "execution_count": 8,
   "id": "89bda7f7",
   "metadata": {},
   "outputs": [
    {
     "data": {
      "text/plain": [
       "(0, 1, 4, 3, 16, 5, 36, 7, 64, 9)"
      ]
     },
     "execution_count": 8,
     "metadata": {},
     "output_type": "execute_result"
    }
   ],
   "source": [
    "evens_squared"
   ]
  },
  {
   "cell_type": "code",
   "execution_count": 9,
   "id": "40876cb2",
   "metadata": {},
   "outputs": [],
   "source": [
    "alterated = list(map(lambda x: -x if lst.index(x)%2==0 else x, lst))"
   ]
  },
  {
   "cell_type": "code",
   "execution_count": 10,
   "id": "a51057ef",
   "metadata": {},
   "outputs": [
    {
     "data": {
      "text/plain": [
       "[0, 1, -2, 3, -4, 5, -6, 7, -8, 9]"
      ]
     },
     "execution_count": 10,
     "metadata": {},
     "output_type": "execute_result"
    }
   ],
   "source": [
    "alterated"
   ]
  },
  {
   "cell_type": "code",
   "execution_count": 11,
   "id": "708667cf",
   "metadata": {},
   "outputs": [],
   "source": [
    "dct = {\"key1\": \"v1\", \"key2\": \"v2\"}"
   ]
  },
  {
   "cell_type": "code",
   "execution_count": 12,
   "id": "56feba3a",
   "metadata": {},
   "outputs": [],
   "source": [
    "capitalised_keys = tuple(map(lambda x: x.upper(), dct.keys()))"
   ]
  },
  {
   "cell_type": "code",
   "execution_count": 13,
   "id": "51be30bd",
   "metadata": {},
   "outputs": [
    {
     "data": {
      "text/plain": [
       "('KEY1', 'KEY2')"
      ]
     },
     "execution_count": 13,
     "metadata": {},
     "output_type": "execute_result"
    }
   ],
   "source": [
    "capitalised_keys"
   ]
  },
  {
   "cell_type": "markdown",
   "id": "1febf5b7",
   "metadata": {},
   "source": [
    "#### filter"
   ]
  },
  {
   "cell_type": "code",
   "execution_count": 14,
   "id": "df1cf32f",
   "metadata": {},
   "outputs": [],
   "source": [
    "evens = list(filter(lambda x: x%2==0, lst))"
   ]
  },
  {
   "cell_type": "code",
   "execution_count": 15,
   "id": "18a9c7a8",
   "metadata": {},
   "outputs": [
    {
     "data": {
      "text/plain": [
       "[0, 2, 4, 6, 8]"
      ]
     },
     "execution_count": 15,
     "metadata": {},
     "output_type": "execute_result"
    }
   ],
   "source": [
    "evens"
   ]
  },
  {
   "cell_type": "markdown",
   "id": "f5474270",
   "metadata": {},
   "source": [
    "#### map + filter"
   ]
  },
  {
   "cell_type": "code",
   "execution_count": 16,
   "id": "8c59ddfa",
   "metadata": {},
   "outputs": [],
   "source": [
    "filtered_evens_squared = list(map(lambda x: x**2, list(filter(lambda x: x%2==0, lst))))"
   ]
  },
  {
   "cell_type": "code",
   "execution_count": 17,
   "id": "b5c32ebf",
   "metadata": {},
   "outputs": [
    {
     "data": {
      "text/plain": [
       "[0, 4, 16, 36, 64]"
      ]
     },
     "execution_count": 17,
     "metadata": {},
     "output_type": "execute_result"
    }
   ],
   "source": [
    "filtered_evens_squared"
   ]
  },
  {
   "cell_type": "code",
   "execution_count": null,
   "id": "6af7995d",
   "metadata": {},
   "outputs": [],
   "source": []
  },
  {
   "cell_type": "code",
   "execution_count": null,
   "id": "f47f8f97",
   "metadata": {},
   "outputs": [],
   "source": []
  },
  {
   "cell_type": "code",
   "execution_count": null,
   "id": "4204d1be",
   "metadata": {},
   "outputs": [],
   "source": []
  }
 ],
 "metadata": {
  "kernelspec": {
   "display_name": "Python 3 (ipykernel)",
   "language": "python",
   "name": "python3"
  },
  "language_info": {
   "codemirror_mode": {
    "name": "ipython",
    "version": 3
   },
   "file_extension": ".py",
   "mimetype": "text/x-python",
   "name": "python",
   "nbconvert_exporter": "python",
   "pygments_lexer": "ipython3",
   "version": "3.9.12"
  }
 },
 "nbformat": 4,
 "nbformat_minor": 5
}
