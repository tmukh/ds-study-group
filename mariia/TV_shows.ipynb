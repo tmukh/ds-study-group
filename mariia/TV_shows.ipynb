{
 "cells": [
  {
   "cell_type": "markdown",
   "id": "ab851686",
   "metadata": {},
   "source": [
    "## TV show recommender system"
   ]
  },
  {
   "cell_type": "code",
   "execution_count": null,
   "id": "7e9af5d7",
   "metadata": {},
   "outputs": [],
   "source": [
    "dramas = {\n",
    "    \"Vikings\" : { \"seasons\" : 6, \"IMDb rating\": 8.5} ,\n",
    "    \"The Walking Dead\": { \"seasons\" : 11, \"IMDb rating\": 8.1},\n",
    "    \"Suits\" : {\"seasons\" : 9, \"IMDb rating\": 8.5} ,\n",
    "    \"Criminal Minds\": {\"seasons\" : 16, \"IMDb rating\": 8.1},\n",
    "    \"Stranger Things\": { \"seasons\" : 4, \"IMDb rating\": 8.7} }"
   ]
  },
  {
   "cell_type": "markdown",
   "id": "32dad097",
   "metadata": {},
   "source": [
    "#### The shows to choose from are:"
   ]
  },
  {
   "cell_type": "code",
   "execution_count": null,
   "id": "9558d526",
   "metadata": {},
   "outputs": [],
   "source": [
    "names = list(dramas.keys())\n",
    "names"
   ]
  },
  {
   "cell_type": "code",
   "execution_count": null,
   "id": "ef7114b8",
   "metadata": {},
   "outputs": [],
   "source": [
    "def write_shows():\n",
    "    for show, features in dramas.items(): #tuple unpacking\n",
    "        print(show)\n",
    "        print(\"seasons:\", features['seasons']) #accessing dictionaries' contents\n",
    "        print(\"IMDb rating:\", features[\"IMDb rating\"])\n",
    "        print(\"--------------------\")\n",
    "write_shows()"
   ]
  },
  {
   "cell_type": "markdown",
   "id": "224123cd",
   "metadata": {},
   "source": [
    "#### Minimum rating:"
   ]
  },
  {
   "cell_type": "code",
   "execution_count": null,
   "id": "076ac422",
   "metadata": {},
   "outputs": [],
   "source": [
    "needed_rating_flt = None\n",
    "\n",
    "while needed_rating_flt == None:\n",
    "    needed_rating = input(\"Enter minimum rating of the show: \")\n",
    "    try:\n",
    "        needed_rating_flt = float(needed_rating)\n",
    "    except:\n",
    "        print(\"Not a number\")\n",
    "        \n",
    "needed_rating_flt"
   ]
  },
  {
   "cell_type": "markdown",
   "id": "57c7b623",
   "metadata": {},
   "source": [
    "#### Minimun number of seasons:"
   ]
  },
  {
   "cell_type": "code",
   "execution_count": null,
   "id": "2959fb29",
   "metadata": {},
   "outputs": [],
   "source": [
    "min_seasons_int = None\n",
    "\n",
    "while min_seasons_int == None:\n",
    "    min_seasons = input(\"Enter minimum number of seasons: \")\n",
    "    try:\n",
    "        min_seasons_int = int(min_seasons)\n",
    "    except:\n",
    "        print(\"Not a number, please try again\")\n",
    "        \n",
    "min_seasons_int"
   ]
  },
  {
   "cell_type": "markdown",
   "id": "3a38fc53",
   "metadata": {},
   "source": [
    "#### Maximum number of seasons:"
   ]
  },
  {
   "cell_type": "code",
   "execution_count": null,
   "id": "fef49953",
   "metadata": {},
   "outputs": [],
   "source": [
    "max_seasons_int = None\n",
    "\n",
    "while max_seasons_int == None:\n",
    "    max_seasons = input(\"Enter maximum number of seasons: \")\n",
    "    try:\n",
    "        max_seasons_int = int(max_seasons)\n",
    "    except:\n",
    "        print(\"Not a number, please try again\")\n",
    "        \n",
    "max_seasons_int"
   ]
  },
  {
   "cell_type": "code",
   "execution_count": null,
   "id": "9a0a2086",
   "metadata": {},
   "outputs": [],
   "source": [
    "if min_seasons_int > max_seasons_int:\n",
    "    print (\"You entered invalid parameters\")"
   ]
  },
  {
   "cell_type": "markdown",
   "id": "8f7bdfda",
   "metadata": {},
   "source": [
    "#### Show finder"
   ]
  },
  {
   "cell_type": "code",
   "execution_count": null,
   "id": "270ce83b",
   "metadata": {},
   "outputs": [],
   "source": [
    "recommended = []\n",
    "for show, features in dramas.items():\n",
    "    if ((min_seasons_int <= features['seasons'] <= max_seasons_int) \n",
    "        and features['IMDb rating'] >= needed_rating_flt):\n",
    "        recommended.append(show)"
   ]
  },
  {
   "cell_type": "code",
   "execution_count": null,
   "id": "7b92934c",
   "metadata": {},
   "outputs": [],
   "source": [
    "recommended"
   ]
  },
  {
   "cell_type": "code",
   "execution_count": null,
   "id": "f05169b2",
   "metadata": {},
   "outputs": [],
   "source": []
  },
  {
   "cell_type": "code",
   "execution_count": null,
   "id": "e6df10de",
   "metadata": {},
   "outputs": [],
   "source": []
  },
  {
   "cell_type": "code",
   "execution_count": null,
   "id": "1c250099",
   "metadata": {},
   "outputs": [],
   "source": []
  },
  {
   "cell_type": "code",
   "execution_count": null,
   "id": "fcad7154",
   "metadata": {},
   "outputs": [],
   "source": []
  },
  {
   "cell_type": "code",
   "execution_count": null,
   "id": "7e8a9076",
   "metadata": {},
   "outputs": [],
   "source": []
  },
  {
   "cell_type": "code",
   "execution_count": null,
   "id": "2b107ab6",
   "metadata": {},
   "outputs": [],
   "source": []
  },
  {
   "cell_type": "code",
   "execution_count": null,
   "id": "f6596760",
   "metadata": {},
   "outputs": [],
   "source": []
  }
 ],
 "metadata": {
  "kernelspec": {
   "display_name": "Python 3 (ipykernel)",
   "language": "python",
   "name": "python3"
  },
  "language_info": {
   "codemirror_mode": {
    "name": "ipython",
    "version": 3
   },
   "file_extension": ".py",
   "mimetype": "text/x-python",
   "name": "python",
   "nbconvert_exporter": "python",
   "pygments_lexer": "ipython3",
   "version": "3.9.12"
  }
 },
 "nbformat": 4,
 "nbformat_minor": 5
}
